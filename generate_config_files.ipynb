{
 "cells": [
  {
   "cell_type": "code",
   "execution_count": 1,
   "metadata": {},
   "outputs": [],
   "source": [
    "import json"
   ]
  },
  {
   "cell_type": "code",
   "execution_count": 2,
   "metadata": {},
   "outputs": [],
   "source": [
    "config = {'mriqc': 'poldracklab_mriqc_0.10.4-2018-03-23-8fb5f5e9184f.img',\n",
    "          'mriqc_settings': {'fd_thres': 0.5},\n",
    "          'bidsifier': 'cis_bidsify_v0.0.1-2018-04-28-06e3209e6b46.img',\n",
    "          'heuristics': 'heuristics/Mattfeld_RTV.py',\n",
    "          }\n",
    "with open('config/Mattfeld_RTV.json', 'w') as fo:\n",
    "    json.dump(config, fo, sort_keys=True, indent=4)"
   ]
  },
  {
   "cell_type": "code",
   "execution_count": 3,
   "metadata": {},
   "outputs": [],
   "source": [
    "config = {'mriqc': 'poldracklab_mriqc_0.10.4-2018-03-23-8fb5f5e9184f.img',\n",
    "          'mriqc_settings': {'fd_thres': 0.9},\n",
    "          'bidsifier': 'cis_bidsify_v0.0.1-2018-04-28-06e3209e6b46.img',\n",
    "          'heuristics': 'heuristics/Dick_AHEAD.py',\n",
    "          }\n",
    "with open('config/Dick_AHEAD.json', 'w') as fo:\n",
    "    json.dump(config, fo, sort_keys=True, indent=4)"
   ]
  },
  {
   "cell_type": "code",
   "execution_count": null,
   "metadata": {},
   "outputs": [],
   "source": []
  }
 ],
 "metadata": {
  "kernelspec": {
   "display_name": "Python [conda env:python3]",
   "language": "python",
   "name": "conda-env-python3-py"
  },
  "language_info": {
   "codemirror_mode": {
    "name": "ipython",
    "version": 3
   },
   "file_extension": ".py",
   "mimetype": "text/x-python",
   "name": "python",
   "nbconvert_exporter": "python",
   "pygments_lexer": "ipython3",
   "version": "3.6.4"
  }
 },
 "nbformat": 4,
 "nbformat_minor": 2
}
